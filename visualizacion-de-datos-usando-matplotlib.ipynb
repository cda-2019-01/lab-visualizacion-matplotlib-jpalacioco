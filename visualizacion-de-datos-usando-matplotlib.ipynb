{
 "cells": [
  {
   "cell_type": "markdown",
   "metadata": {},
   "source": [
    "LAB: Visualización de datos usando Matplotlib\n",
    "=========================================="
   ]
  },
  {
   "cell_type": "code",
   "execution_count": 7,
   "metadata": {},
   "outputs": [],
   "source": [
    "## inicialización\n",
    "import numpy as np\n",
    "import matplotlib.pyplot as plt\n",
    "import matplotlib as mpl\n",
    "import pandas as pd\n",
    "%matplotlib inline"
   ]
  },
  {
   "cell_type": "code",
   "execution_count": 8,
   "metadata": {},
   "outputs": [],
   "source": [
    "# Cargando datos\n",
    "table = pd.read_csv(\"indicadores-mundiales.csv\", sep=',', encoding = \"latin-1\")"
   ]
  },
  {
   "cell_type": "code",
   "execution_count": 9,
   "metadata": {},
   "outputs": [
    {
     "name": "stdout",
     "output_type": "stream",
     "text": [
      "******************************\n",
      "          Ano  Dias para iniciar un negocio  Emisiones de CO2  \\\n",
      "0  2000-12-01                           NaN           87931.0   \n",
      "1  2000-12-01                           NaN            9542.0   \n",
      "\n",
      "   Esperanza de vida (mujeres)  Esperanza de vida (varones)  \\\n",
      "0                         71.0                         67.0   \n",
      "1                         47.0                         44.0   \n",
      "\n",
      "   Facilidad para hacer negocios  Gasto en salud ( del PIB)  \\\n",
      "0                            NaN                        3.5   \n",
      "1                            NaN                        3.4   \n",
      "\n",
      "   Gasto en salud (per capita)  Horas preparar los impuestos  \\\n",
      "0                         60.0                           NaN   \n",
      "1                         22.0                           NaN   \n",
      "\n",
      "   Interes de prestamos  ...  Poblacion urbana  Region  \\\n",
      "0                  10.0  ...              59.9  africa   \n",
      "1                 103.2  ...              32.4  africa   \n",
      "\n",
      "   Tasa de mortalidad infantil  Tasa de natalidad  \\\n",
      "0                          3.4                2.0   \n",
      "1                         12.8                5.0   \n",
      "\n",
      "   Tasa tributaria empresarial  Turismo emisor  Turismo receptivo  \\\n",
      "0                          NaN     193000000.0        102000000.0   \n",
      "1                          NaN     146000000.0         34000000.0   \n",
      "\n",
      "  Uso de Internet  Uso de energia  Uso de telefonos celulares  \n",
      "0             0.0         26998.0                         0.0  \n",
      "1             0.0          7499.0                         0.0  \n",
      "\n",
      "[2 rows x 26 columns]\n",
      "**********\n",
      "Ano                                 0\n",
      "Dias para iniciar un negocio      733\n",
      "Emisiones de CO2                   78\n",
      "Esperanza de vida (mujeres)        50\n",
      "Esperanza de vida (varones)        50\n",
      "Facilidad para hacer negocios    1000\n",
      "Gasto en salud ( del PIB)         116\n",
      "Gasto en salud (per capita)       116\n",
      "Horas preparar los impuestos     1000\n",
      "Interes de prestamos              275\n",
      "PIB                                68\n",
      "Pais                                0\n",
      "Poblacion 0-14                     81\n",
      "Poblacion 15-64                    81\n",
      "Poblacion 65+                      81\n",
      "Poblacion total                     0\n",
      "Poblacion urbana                    9\n",
      "Region                              0\n",
      "Tasa de mortalidad infantil        94\n",
      "Tasa de natalidad                  52\n",
      "Tasa tributaria empresarial      1000\n",
      "Turismo emisor                    192\n",
      "Turismo receptivo                 131\n",
      "Uso de Internet                    81\n",
      "Uso de energia                    326\n",
      "Uso de telefonos celulares         72\n",
      "dtype: int64\n",
      "******************************\n"
     ]
    }
   ],
   "source": [
    "# Revisando el contenido de los datos.\n",
    "print(\"*\"*30)\n",
    "print(table.head(2))\n",
    "print(\"*\"*10)\n",
    "print(table.isna().sum())\n",
    "print(\"*\"*30)"
   ]
  },
  {
   "cell_type": "code",
   "execution_count": 10,
   "metadata": {},
   "outputs": [],
   "source": [
    "#table.dropna(inplace=True)\n",
    "#print(\"*\"*10)\n",
    "#print(table.isna().sum())\n",
    "#print(\"*\"*10)"
   ]
  },
  {
   "cell_type": "markdown",
   "metadata": {},
   "source": [
    "## Punto 1"
   ]
  },
  {
   "cell_type": "markdown",
   "metadata": {},
   "source": [
    "Construya una gráfica similar a la siguiente usando el archivo `indicadores-mundiales.csv`. Se grafica la suma del porcetaje de la población por regiones.\n",
    "\n",
    "![act2](images/suma-pob-region-edades-2.png)\n"
   ]
  },
  {
   "cell_type": "code",
   "execution_count": 11,
   "metadata": {},
   "outputs": [],
   "source": [
    "p1 = table.groupby('Region').sum()[[\"Poblacion 0-14\",\"Poblacion 15-64\",\"Poblacion 65+\"]]\n",
    "index = p1.index\n",
    "col = p1.keys()\n",
    "val = p1.values\n",
    "lista = []\n",
    "for i in range(len(index)):\n",
    "    lista.append((index[i], val[i]/100))"
   ]
  },
  {
   "cell_type": "code",
   "execution_count": 12,
   "metadata": {},
   "outputs": [
    {
     "data": {
      "text/plain": [
       "[('Asia', array([ 53.186, 106.687,  10.13 ])),\n",
       " ('Europa', array([ 37.802, 138.306,  28.905])),\n",
       " ('Las Americas', array([ 53.755, 109.018,  12.231])),\n",
       " ('Oceania', array([17.848, 31.331,  2.825])),\n",
       " ('Oriente Medio', array([17.547, 32.511,  1.942])),\n",
       " ('africa', array([111.362, 144.527,   9.117]))]"
      ]
     },
     "execution_count": 12,
     "metadata": {},
     "output_type": "execute_result"
    }
   ],
   "source": [
    "lista"
   ]
  },
  {
   "cell_type": "code",
   "execution_count": 13,
   "metadata": {},
   "outputs": [
    {
     "data": {
      "image/png": "[encoded data removed]",
      "text/plain": [
       "<Figure size 720x432 with 6 Axes>"
      ]
     },
     "metadata": {
      "needs_background": "light"
     },
     "output_type": "display_data"
    }
   ],
   "source": [
    "fig = plt.figure(figsize=(10,6)) # Notice the equal aspect rati\n",
    "fig.suptitle(\"Region\", fontsize=14)\n",
    "\n",
    "ax = [fig.add_subplot(1,6,i+1) for i in range(6)]\n",
    "colors = ['blue','red','green']\n",
    "for i, a in enumerate(ax):\n",
    "    a.title.set_text(index[i-1])\n",
    "    a.set_ylim([0, 160])\n",
    "    ##\n",
    "    if i !=0 :\n",
    "        a.set_yticklabels([])\n",
    "    a.set_xticklabels(['Poblacion 0-14', 'Poblacion 15-64', 'Poblacion 65+'], rotation='vertical')\n",
    "    \n",
    "    #a.set_aspect('equal')\n",
    "    a.scatter(col, lista[i-1][1],c=colors,marker=\"o\")\n",
    "rango = range(0,180, 20)\n",
    "plt.subplots_adjust(wspace=0, hspace=0)\n"
   ]
  },
  {
   "cell_type": "markdown",
   "metadata": {},
   "source": [
    "## Punto 2\n",
    "\n",
    "Construya una gráfica similar a la siguiente usando el archivo `indicadores-mundiales.csv`. Se grafica la suma del porcetaje de la población por regiones.\n",
    "\n",
    "![act2](images/suma-pob-region-edades-3.png)\n"
   ]
  },
  {
   "cell_type": "code",
   "execution_count": 14,
   "metadata": {},
   "outputs": [
    {
     "data": {
      "image/png": "[encoded data removed]",
      "text/plain": [
       "<Figure size 720x432 with 6 Axes>"
      ]
     },
     "metadata": {
      "needs_background": "light"
     },
     "output_type": "display_data"
    }
   ],
   "source": [
    "p1 = table.groupby('Region').sum()[[\"Poblacion 0-14\",\"Poblacion 15-64\",\"Poblacion 65+\"]]\n",
    "\n",
    "fig = plt.figure(figsize=(10,6)) # Notice the equal aspect rati\n",
    "fig.suptitle(\"Region\", fontsize=14)\n",
    "\n",
    "ax = [fig.add_subplot(1,6,i+1) for i in range(6)]\n",
    "colors = ['blue','red','green']\n",
    "for i, a in enumerate(ax):\n",
    "    a.title.set_text(index[i-1])\n",
    "    a.set_ylim([0, 160])\n",
    "    ##\n",
    "    if i !=0 :\n",
    "        a.set_yticklabels([])\n",
    "    a.set_xticklabels(['Poblacion 0-14', 'Poblacion 15-64', 'Poblacion 65+'], rotation='vertical')\n",
    "    \n",
    "    #a.set_aspect('equal')\n",
    "    a.bar(col, lista[i-1][1], color=['blue', 'red', 'green'])\n",
    "rango = range(0,180, 20)\n",
    "plt.subplots_adjust(wspace=0, hspace=0)\n"
   ]
  },
  {
   "cell_type": "markdown",
   "metadata": {},
   "source": [
    "## Punto 3\n",
    "Construya una gráfica similar a la siguiente usando el archivo `indicadores-mundiales.csv`. Se grafica la suma del porcetaje de la población por regiones.\n",
    "\n",
    "![act3](images/suma-pob-region-edades-4.png)"
   ]
  },
  {
   "cell_type": "code",
   "execution_count": null,
   "metadata": {},
   "outputs": [],
   "source": []
  },
  {
   "cell_type": "code",
   "execution_count": 15,
   "metadata": {},
   "outputs": [
    {
     "data": {
      "image/png": "[encoded data removed]",
      "text/plain": [
       "<Figure size 576x864 with 3 Axes>"
      ]
     },
     "metadata": {
      "needs_background": "light"
     },
     "output_type": "display_data"
    }
   ],
   "source": [
    "p1 = table.groupby('Region').sum()[[\"Poblacion 0-14\",\"Poblacion 15-64\",\"Poblacion 65+\"]]\n",
    "\n",
    "poblacion = p1.keys()\n",
    "regiones = p1.index\n",
    "\n",
    "data = p1.values\n",
    "lista = []\n",
    "for i in range(len(poblacion)):\n",
    "    lista.append((poblacion[i], data[:,i]))\n",
    "    \n",
    "fig, axes = plt.subplots(nrows=3, ncols=1, figsize=(8,12))\n",
    "axes[0].set_title('Regiones')\n",
    "colors = [\"blue\", \"red\", \"green\"]\n",
    "for i in range(len(axes)):\n",
    "    #pd.DataFrame({ \"Regiones\":lista[i][1]}, index=regiones).plot( kind=\"bar\", ax=axes[i], color=colors[i\n",
    "    df = pd.DataFrame({ \"Regiones\":lista[i][1]}, index=regiones)\n",
    "    # Organizando dataset\n",
    "    df = df.iloc[df.index.str.lower().argsort()]\n",
    "    df.plot( kind=\"bar\", ax=axes[i], color=colors[i])\n",
    "    if i !=2:\n",
    "        axes[i].set_xticklabels([])\n",
    "    axes[i].set_ylabel(poblacion[i])\n",
    "    \n",
    "plt.subplots_adjust(wspace=0, hspace=0)"
   ]
  },
  {
   "cell_type": "markdown",
   "metadata": {},
   "source": [
    "## Punto 4\n",
    "\n",
    "Construya una gráfica similar a la siguiente usando el archivo `indicadores-mundiales.csv`. Promedio de gastos per capita por año.\n",
    "\n",
    "![act4](images/prom-gastos-salud-per-capita-ano.png)"
   ]
  },
  {
   "cell_type": "markdown",
   "metadata": {},
   "source": [
    "## Punto 5\n",
    "\n",
    "Construya una gráfica similar a la siguiente usando el archivo `indicadores-mundiales.csv`. Promedio de gastos per capita por año.\n",
    "\n",
    "![act5](images/prom-region-edades-ano.png)"
   ]
  },
  {
   "cell_type": "code",
   "execution_count": null,
   "metadata": {},
   "outputs": [],
   "source": []
  },
  {
   "cell_type": "markdown",
   "metadata": {},
   "source": [
    "---"
   ]
  }
 ],
 "metadata": {
  "kernel_info": {
   "name": "python3"
  },
  "kernelspec": {
   "display_name": "Python 3",
   "language": "python",
   "name": "python3"
  },
  "language_info": {
   "codemirror_mode": {
    "name": "ipython",
    "version": 3
   },
   "file_extension": ".py",
   "mimetype": "text/x-python",
   "name": "python",
   "nbconvert_exporter": "python",
   "pygments_lexer": "ipython3",
   "version": "3.6.7"
  },
  "nteract": {
   "version": "0.7.1"
  },
  "varInspector": {
   "cols": {
    "lenName": 16,
    "lenType": 16,
    "lenVar": 40
   },
   "kernels_config": {
    "python": {
     "delete_cmd_postfix": "",
     "delete_cmd_prefix": "del ",
     "library": "var_list.py",
     "varRefreshCmd": "print(var_dic_list())"
    },
    "r": {
     "delete_cmd_postfix": ") ",
     "delete_cmd_prefix": "rm(",
     "library": "var_list.r",
     "varRefreshCmd": "cat(var_dic_list()) "
    }
   },
   "types_to_exclude": [
    "module",
    "function",
    "builtin_function_or_method",
    "instance",
    "_Feature"
   ],
   "window_display": false
  }
 },
 "nbformat": 4,
 "nbformat_minor": 2
}
